{
 "cells": [
  {
   "cell_type": "markdown",
   "metadata": {},
   "source": [
    "# DICTIONARIES"
   ]
  },
  {
   "cell_type": "markdown",
   "metadata": {},
   "source": [
    "# Dictionary\n",
    "* Dictionaries are used to store data values in key:value pairs.\n",
    "\n",
    "* A dictionary is a collection which is ordered*, changeable and do not allow duplicates.\n",
    "\n",
    "* As of Python version 3.7, dictionaries are ordered. In Python 3.6 and earlier, dictionaries are unordered.\n",
    "\n",
    "* Dictionaries are written with curly brackets, and have keys and values:\n"
   ]
  },
  {
   "cell_type": "code",
   "execution_count": null,
   "metadata": {},
   "outputs": [],
   "source": [
    "# Create and print a dictionary:\n",
    "\n",
    "this_dict = {\n",
    "  \"brand\": \"Ford\",\n",
    "  \"model\": \"Mustang\",\n",
    "  \"year\": 1964\n",
    "}\n",
    "print(this_dict)"
   ]
  },
  {
   "cell_type": "code",
   "execution_count": 84,
   "metadata": {},
   "outputs": [
    {
     "name": "stdout",
     "output_type": "stream",
     "text": [
      "{'brand': 'Ford', 'model': 'Mustang', 'year': 2020}\n"
     ]
    }
   ],
   "source": [
    "# Duplicates Not Allowed\n",
    "# Dictionaries cannot have two items with the same key:\n",
    "\n",
    "# Example\n",
    "# Duplicate values will overwrite existing values:\n",
    "\n",
    "this_dict = {\n",
    "  \"brand\": \"Ford\",\n",
    "  \"model\": \"Mustang\",\n",
    "  \"year\": 1964,\n",
    "  \"year\": 2020\n",
    "}\n",
    "print(this_dict)\n"
   ]
  },
  {
   "cell_type": "code",
   "execution_count": 86,
   "metadata": {},
   "outputs": [
    {
     "name": "stdout",
     "output_type": "stream",
     "text": [
      "3\n"
     ]
    }
   ],
   "source": [
    "# Example\n",
    "# Print the number of items in the dictionary:\n",
    "\n",
    "print(len(this_dict))"
   ]
  },
  {
   "cell_type": "code",
   "execution_count": null,
   "metadata": {},
   "outputs": [],
   "source": [
    "# The values in dictionary items can be of any data type:\n",
    "\n",
    "# Example\n",
    "# String, int, boolean, and list data types:\n",
    "\n",
    "this_dict = {\n",
    "  \"brand\": \"Ford\",\n",
    "  \"electric\": False,\n",
    "  \"year\": 1964,\n",
    "  \"colors\": [\"red\", \"white\", \"blue\"]\n",
    "}"
   ]
  },
  {
   "cell_type": "code",
   "execution_count": 87,
   "metadata": {},
   "outputs": [
    {
     "name": "stdout",
     "output_type": "stream",
     "text": [
      "{'name': 'John', 'age': 36, 'country': 'Norway'}\n"
     ]
    }
   ],
   "source": [
    "# The dict() Constructor\n",
    "# It is also possible to use the dict() constructor to make a dictionary.\n",
    "\n",
    "# Example\n",
    "# Using the dict() method to make a dictionary:\n",
    "\n",
    "this_dict = dict(name = \"John\", age = 36, country = \"Norway\")\n",
    "print(this_dict)\n"
   ]
  },
  {
   "cell_type": "code",
   "execution_count": 88,
   "metadata": {},
   "outputs": [
    {
     "name": "stdout",
     "output_type": "stream",
     "text": [
      "Yes, 'model' is one of the keys in the this_dict dictionary\n"
     ]
    }
   ],
   "source": [
    "# Check if Key Exists\n",
    "# To determine if a specified key is present in a dictionary use the in keyword:\n",
    "\n",
    "# Example\n",
    "# Check if \"model\" is present in the dictionary:\n",
    "\n",
    "this_dict = {\n",
    "  \"brand\": \"Ford\",\n",
    "  \"model\": \"Mustang\",\n",
    "  \"year\": 1964\n",
    "}\n",
    "if \"model\" in this_dict:\n",
    "  print(\"Yes, 'model' is one of the keys in the this_dict dictionary\")\n"
   ]
  },
  {
   "cell_type": "code",
   "execution_count": 35,
   "metadata": {},
   "outputs": [
    {
     "name": "stdout",
     "output_type": "stream",
     "text": [
      "{'name': 'Ali', 'father name': 'saad', 'qualification': 'BS.IT', 'roll no': 123, 'dict': {2: 'two', 3: {'three'}}}\n",
      "two\n"
     ]
    }
   ],
   "source": [
    "from typing import Union\n",
    "key = Union[str, int, float, tuple] # which type is hashable can become a key\n",
    "value = Union[str, int,float, dict, set, list, tuple]\n",
    "student_data : dict[key, value] = {'name':'Ali',  'father name':'saad','qualification':'BS.IT','roll no': 123, 'dict':{2:'two', 3:{'three'}}}\n",
    "print(student_data)\n",
    "print(student_data['dict'][2])"
   ]
  },
  {
   "cell_type": "code",
   "execution_count": 26,
   "metadata": {},
   "outputs": [
    {
     "name": "stdout",
     "output_type": "stream",
     "text": [
      "BS.IT\n",
      "NA\n",
      "Ali\n",
      "dict_keys(['name', 'father name', 'qualification', 'roll no'])\n",
      "dict_values(['Ali', 'saad', 'BS.IT', 123])\n",
      "dict_items([('name', 'Ali'), ('father name', 'saad'), ('qualification', 'BS.IT'), ('roll no', 123)])\n",
      "name\n",
      "father name\n",
      "qualification\n",
      "roll no\n",
      "name\n",
      "father name\n",
      "qualification\n",
      "roll no\n",
      "Ali\n",
      "saad\n",
      "BS.IT\n",
      "123\n"
     ]
    }
   ],
   "source": [
    "print(student_data[\"qualification\"])\n",
    "print(student_data.get('name01', \"NA\"))\n",
    "print(student_data.get('name', \"NA\"))\n",
    "print(student_data.keys())\n",
    "print(student_data.values())\n",
    "print(student_data.items())\n",
    "for k in student_data: # for loop will print keys value by default \n",
    "    print(k)\n",
    "for v in student_data: # for loop will print keys value by default\n",
    "    print(v)"
   ]
  },
  {
   "cell_type": "code",
   "execution_count": 58,
   "metadata": {},
   "outputs": [
    {
     "name": "stdout",
     "output_type": "stream",
     "text": [
      "\n",
      "key :My Name is\n",
      "value :Ali\n",
      "\n",
      "key :My Father Name is\n",
      "value :saad\n",
      "\n",
      "key :My Qualification is\n",
      "value :BS.IT\n",
      "\n",
      "key :My Roll No is\n",
      "value :123\n",
      "\n",
      "key :My Dict is\n",
      "value :{2: 'two', 3: {'three'}}\n"
     ]
    }
   ],
   "source": [
    "# for v in student_data.values():\n",
    "#     print(v)\n",
    "# for k in student_data.keys():\n",
    "#     print(k)\n",
    "# for i in student_data.items():\n",
    "#     print(i)\n",
    "for key, value in student_data.items():\n",
    "    print(f'\\nkey :My {key.title()} is')\n",
    "    print(f'value :{value}')\n",
    "\n"
   ]
  },
  {
   "cell_type": "code",
   "execution_count": 61,
   "metadata": {},
   "outputs": [
    {
     "name": "stdout",
     "output_type": "stream",
     "text": [
      "\n",
      "My Name is :Ali\n",
      "\n",
      "My Father Name is :saad\n",
      "\n",
      "My Qualification is :BS.IT\n",
      "\n",
      "My Roll No is :123\n",
      "\n",
      "My Dict is :{2: 'two', 3: {'three'}}\n"
     ]
    }
   ],
   "source": [
    "for key, value in student_data.items():\n",
    "    print(f'\\nMy {key.title()} is :{value}')\n",
    "\n"
   ]
  },
  {
   "cell_type": "markdown",
   "metadata": {},
   "source": [
    "# shuffle method  "
   ]
  },
  {
   "cell_type": "code",
   "execution_count": 38,
   "metadata": {},
   "outputs": [
    {
     "name": "stdout",
     "output_type": "stream",
     "text": [
      "10\n",
      "20\n",
      "20\n",
      "10\n"
     ]
    }
   ],
   "source": [
    "a : int = 10 \n",
    "b : int = 20\n",
    "print(a)\n",
    "print(b)\n",
    "a, b = b , a \n",
    "print(a)\n",
    "print(b)\n"
   ]
  },
  {
   "cell_type": "markdown",
   "metadata": {},
   "source": [
    "# application of dictionary "
   ]
  },
  {
   "cell_type": "markdown",
   "metadata": {},
   "source": [
    "# 01 make a data frame "
   ]
  },
  {
   "cell_type": "code",
   "execution_count": 44,
   "metadata": {},
   "outputs": [
    {
     "data": {
      "text/html": [
       "<div>\n",
       "<style scoped>\n",
       "    .dataframe tbody tr th:only-of-type {\n",
       "        vertical-align: middle;\n",
       "    }\n",
       "\n",
       "    .dataframe tbody tr th {\n",
       "        vertical-align: top;\n",
       "    }\n",
       "\n",
       "    .dataframe thead th {\n",
       "        text-align: right;\n",
       "    }\n",
       "</style>\n",
       "<table border=\"1\" class=\"dataframe\">\n",
       "  <thead>\n",
       "    <tr style=\"text-align: right;\">\n",
       "      <th></th>\n",
       "      <th>Roll no</th>\n",
       "      <th>Name</th>\n",
       "      <th>Age</th>\n",
       "    </tr>\n",
       "  </thead>\n",
       "  <tbody>\n",
       "    <tr>\n",
       "      <th>0</th>\n",
       "      <td>1</td>\n",
       "      <td>ali</td>\n",
       "      <td>22</td>\n",
       "    </tr>\n",
       "    <tr>\n",
       "      <th>1</th>\n",
       "      <td>2</td>\n",
       "      <td>waleed</td>\n",
       "      <td>43</td>\n",
       "    </tr>\n",
       "    <tr>\n",
       "      <th>2</th>\n",
       "      <td>3</td>\n",
       "      <td>saad</td>\n",
       "      <td>55</td>\n",
       "    </tr>\n",
       "    <tr>\n",
       "      <th>3</th>\n",
       "      <td>4</td>\n",
       "      <td>nawaz</td>\n",
       "      <td>22</td>\n",
       "    </tr>\n",
       "    <tr>\n",
       "      <th>4</th>\n",
       "      <td>5</td>\n",
       "      <td>waseem</td>\n",
       "      <td>23</td>\n",
       "    </tr>\n",
       "  </tbody>\n",
       "</table>\n",
       "</div>"
      ],
      "text/plain": [
       "   Roll no    Name  Age\n",
       "0        1     ali   22\n",
       "1        2  waleed   43\n",
       "2        3    saad   55\n",
       "3        4   nawaz   22\n",
       "4        5  waseem   23"
      ]
     },
     "execution_count": 44,
     "metadata": {},
     "output_type": "execute_result"
    }
   ],
   "source": [
    "import pandas as pd\n",
    "data_frame : dict[str , list[any]] = {\n",
    "    'Roll no':[1,2,3,4,5],\n",
    "    'Name':['ali','waleed', 'saad', 'nawaz', 'waseem'],\n",
    "    'Age': [22,43,55,22,23,]\n",
    "}\n",
    "data_frame:pd.DataFrame = pd.DataFrame(data_frame)\n",
    "data_frame"
   ]
  },
  {
   "cell_type": "code",
   "execution_count": 50,
   "metadata": {},
   "outputs": [
    {
     "name": "stdout",
     "output_type": "stream",
     "text": [
      "{'ali': 12, 'waleed': 34, 'saad': 45, 'nawaz': 56, 'waseem': 67}\n",
      "{'ali': 12, 'waleed': 34, 'saad': 45, 'nawaz': 56, 'waseem': 67, 'x-position ': 20, 'y-position': 40}\n"
     ]
    }
   ],
   "source": [
    "# add new item in a dictionary\n",
    "name:dict[str , int]={'ali':12 ,'waleed':34, 'saad':45, 'nawaz':56, 'waseem':67}\n",
    "print(name)\n",
    "name['x-position '] = 20\n",
    "name['y-position'] = 40\n",
    "print(name)\n"
   ]
  },
  {
   "cell_type": "code",
   "execution_count": 52,
   "metadata": {},
   "outputs": [
    {
     "name": "stdout",
     "output_type": "stream",
     "text": [
      "before modification {'ali': 12, 'waleed': 34, 'saad': 45, 'nawaz': 56, 'waseem': 67}\n",
      "after modification {'ali': 120, 'waleed': 340, 'saad': 45, 'nawaz': 56, 'waseem': 670}\n"
     ]
    }
   ],
   "source": [
    "# modification of dictionary\n",
    "name:dict[str , int]={'ali':12 ,'waleed':34, 'saad':45, 'nawaz':56, 'waseem':67}\n",
    "print(f'before modification {name}')\n",
    "name['ali'] =120\n",
    "name['waleed'] = 340\n",
    "name['waseem'] = 670\n",
    "print(f'after modification {name}')"
   ]
  },
  {
   "cell_type": "code",
   "execution_count": 55,
   "metadata": {},
   "outputs": [
    {
     "name": "stdout",
     "output_type": "stream",
     "text": [
      "34 is my brother's score.\n"
     ]
    }
   ],
   "source": [
    "name:dict[str , int]={'ali':12 ,'waleed':34, 'saad':45, 'nawaz':56, 'waseem':67}\n",
    "my_brother = name['waleed']\n",
    "print(f\"{my_brother} is my brother's score.\")"
   ]
  },
  {
   "cell_type": "code",
   "execution_count": 63,
   "metadata": {},
   "outputs": [
    {
     "name": "stdout",
     "output_type": "stream",
     "text": [
      "Thanks ALI to become a part of this game.\n",
      "Thanks NAWAZ to become a part of this game.\n",
      "Thanks SAAD to become a part of this game.\n",
      "Thanks WALEED to become a part of this game.\n",
      "Thanks WASEEM to become a part of this game.\n"
     ]
    }
   ],
   "source": [
    "names:dict[str , int]={'ali':12 ,'waleed':34, 'saad':45, 'nawaz':56, 'waseem':67}\n",
    "for name in sorted(names.keys()):\n",
    "    print(f'Thanks {name.upper()} to become a part of this game.')\n"
   ]
  },
  {
   "cell_type": "markdown",
   "metadata": {},
   "source": [
    "# Nesting"
   ]
  },
  {
   "cell_type": "code",
   "execution_count": 71,
   "metadata": {},
   "outputs": [
    {
     "name": "stdout",
     "output_type": "stream",
     "text": [
      "{'ali': 12, 'waleed': 34, 'saad': 45, 'nawaz': 56, 'waseem': 67}\n",
      "{'ali': 12, 'waleed': 34, 'saad': 45, 'nawaz': 56, 'waseem': 67}\n",
      "{'ali': 12, 'waleed': 34, 'saad': 45, 'nawaz': 56, 'waseem': 67}\n"
     ]
    }
   ],
   "source": [
    "# list of different dictionaries            ===> tree different dict are combined in a single list and then performed loop on it \n",
    "name01:dict[str , int]={'ali':12 ,'waleed':34, 'saad':45, 'nawaz':56, 'waseem':67}\n",
    "name02:dict[str , int]={'ali':12 ,'waleed':34, 'saad':45, 'nawaz':56, 'waseem':67}\n",
    "name03:dict[str , int]={'ali':12 ,'waleed':34, 'saad':45, 'nawaz':56, 'waseem':67}\n",
    "names: list = [name01, name02,name03]\n",
    "for name in names:\n",
    "    print(name)\n",
    "\n"
   ]
  },
  {
   "cell_type": "code",
   "execution_count": 82,
   "metadata": {},
   "outputs": [
    {
     "name": "stdout",
     "output_type": "stream",
     "text": [
      "{'color': 'green', 'points': 5}\n",
      "{'color': 'green', 'points': 5}\n",
      "{'color': 'green', 'points': 5}\n",
      "{'color': 'green', 'points': 5}\n",
      "{'color': 'green', 'points': 5}\n",
      "---\n",
      "30\n"
     ]
    }
   ],
   "source": [
    "# make an empty list storing aliens\n",
    "aliens : list = []\n",
    "# make 30 green aliens \n",
    "for alien_len in range(30):\n",
    "    new_alien = {'color':'green','points': 5}\n",
    "    aliens.append(new_alien)\n",
    "# show only 05 \n",
    "for alien in aliens[0:5]:\n",
    "    print(alien)\n",
    "print('---')\n",
    "print(len(aliens))"
   ]
  },
  {
   "cell_type": "code",
   "execution_count": 83,
   "metadata": {},
   "outputs": [
    {
     "name": "stdout",
     "output_type": "stream",
     "text": [
      "{'color': 'yellow', 'points': 10}\n",
      "{'color': 'yellow', 'points': 10}\n",
      "{'color': 'yellow', 'points': 10}\n",
      "{'color': 'green', 'points': 5}\n",
      "{'color': 'green', 'points': 5}\n",
      "---\n",
      "30\n"
     ]
    }
   ],
   "source": [
    "# make an empty list storing aliens\n",
    "aliens : list = []\n",
    "# make 30 green aliens \n",
    "for alien_len in range(30):\n",
    "    new_alien = {'color':'green','points': 5}\n",
    "    aliens.append(new_alien)\n",
    "# modification for first 03 dict.\n",
    "for alien in aliens[:3]:\n",
    "    if alien['color'] == 'green':\n",
    "        alien['color'] = 'yellow'\n",
    "        alien[\"points\"] = 10\n",
    "# show only 05 \n",
    "for alien in aliens[0:5]:\n",
    "    print(alien)\n",
    "print('---')\n",
    "print(len(aliens))"
   ]
  },
  {
   "cell_type": "markdown",
   "metadata": {},
   "source": []
  }
 ],
 "metadata": {
  "kernelspec": {
   "display_name": "Python 3",
   "language": "python",
   "name": "python3"
  },
  "language_info": {
   "codemirror_mode": {
    "name": "ipython",
    "version": 3
   },
   "file_extension": ".py",
   "mimetype": "text/x-python",
   "name": "python",
   "nbconvert_exporter": "python",
   "pygments_lexer": "ipython3",
   "version": "3.12.0"
  }
 },
 "nbformat": 4,
 "nbformat_minor": 2
}
