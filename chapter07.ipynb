{
 "cells": [
  {
   "cell_type": "code",
   "execution_count": null,
   "metadata": {},
   "outputs": [],
   "source": []
  },
  {
   "cell_type": "markdown",
   "metadata": {},
   "source": [
    "# loop and input function"
   ]
  },
  {
   "cell_type": "code",
   "execution_count": 2,
   "metadata": {},
   "outputs": [
    {
     "name": "stdout",
     "output_type": "stream",
     "text": [
      "Type stop, quite, break for end input\n",
      "{'name': 'ali', 'education': 'ba'}\n",
      "Type stop, quite, break for end input\n",
      "{'name': 'ali', 'education': 'ba'}\n",
      "{'name': 'saad', 'education': 'ma'}\n",
      "Type stop, quite, break for end input\n",
      "{'name': 'ali', 'education': 'ba'}\n",
      "{'name': 'saad', 'education': 'ma'}\n",
      "{'name': 'waleed', 'education': 'bs'}\n",
      "Type stop, quite, break for end input\n",
      "{'name': 'ali', 'education': 'ba'}\n",
      "{'name': 'saad', 'education': 'ma'}\n",
      "{'name': 'waleed', 'education': 'bs'}\n",
      "{'name': 'nawaz', 'education': 'bs psy'}\n",
      "Type stop, quite, break for end input\n"
     ]
    },
    {
     "data": {
      "text/plain": [
       "[{'name': 'ali', 'education': 'ba'},\n",
       " {'name': 'saad', 'education': 'ma'},\n",
       " {'name': 'waleed', 'education': 'bs'},\n",
       " {'name': 'nawaz', 'education': 'bs psy'}]"
      ]
     },
     "metadata": {},
     "output_type": "display_data"
    }
   ],
   "source": [
    "# make user input function \n",
    "user_data : list[str, str] = []\n",
    "flag :bool = True\n",
    "while flag:\n",
    "    print(\"Type stop, quite, break for end input\")\n",
    "    name: str = input(\"Enter your name\")\n",
    "    education:str = input(\"Enter your education\")\n",
    "    if name in ('stop', 'close') or education in ('stop', 'close'):\n",
    "        flag = False\n",
    "        break\n",
    "    user_data.append({\"name\":name,\n",
    "                      \"education\": education})\n",
    "    for x in user_data:\n",
    "        print(x)\n",
    "display(user_data)"
   ]
  },
  {
   "cell_type": "code",
   "execution_count": 2,
   "metadata": {},
   "outputs": [
    {
     "data": {
      "text/plain": [
       "False"
      ]
     },
     "execution_count": 2,
     "metadata": {},
     "output_type": "execute_result"
    }
   ],
   "source": [
    "user_age : int = int(input(\"enter your age here?\"))\n",
    "user_age >= 20\n"
   ]
  }
 ],
 "metadata": {
  "kernelspec": {
   "display_name": "Python 3",
   "language": "python",
   "name": "python3"
  },
  "language_info": {
   "codemirror_mode": {
    "name": "ipython",
    "version": 3
   },
   "file_extension": ".py",
   "mimetype": "text/x-python",
   "name": "python",
   "nbconvert_exporter": "python",
   "pygments_lexer": "ipython3",
   "version": "3.12.0"
  }
 },
 "nbformat": 4,
 "nbformat_minor": 2
}
