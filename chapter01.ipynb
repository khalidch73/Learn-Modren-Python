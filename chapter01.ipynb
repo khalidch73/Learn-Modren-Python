{
 "cells": [
  {
   "cell_type": "code",
   "execution_count": 1,
   "metadata": {},
   "outputs": [
    {
     "name": "stdout",
     "output_type": "stream",
     "text": [
      "See chapter01 in readme.md file\n"
     ]
    }
   ],
   "source": [
    "print(\"See chapter01 in readme.md file\")\n"
   ]
  },
  {
   "cell_type": "code",
   "execution_count": 2,
   "metadata": {},
   "outputs": [
    {
     "name": "stdout",
     "output_type": "stream",
     "text": [
      "Ali Nawaz\n"
     ]
    }
   ],
   "source": [
    "firstName : str = \"Ali\"\n",
    "secondName : str = \"Nawaz\"\n",
    "fullName : str = f'{firstName} {secondName}'\n",
    "print(fullName)"
   ]
  },
  {
   "cell_type": "markdown",
   "metadata": {},
   "source": [
    "# Chapter 01.\n",
    "* download and install anaconda https://www.anaconda.com/ first if you have already install visual studio code https://code.visualstudio.com/Download and node.js https://nodejs.org/.\n",
    "* Go to search bar and open anaconda prompt.\n",
    "     * run following command here\n",
    "      * (base) C:\\Users\\Khalid>python --version\n",
    "        Python 3.11.5\n",
    "      * (base) C:\\Users\\Khalid >python (for go to main python file)\n",
    "      * >>> print(\"waleed nawaz want to learn python!\") (print some this here in print())\n",
    "       waleed nawaz want to learn python!\n",
    "      * >>> exit() (go to base python)\n",
    "         (base) C:\\Users\\Khalid>f: (go to f, e or any other folder in your system)\n",
    "      * (base) F:\\>mkdir knc (make a new folder here by mkdir folderName)\n",
    "      * (base) F:\\>cd knc (cd and folder name just for landing in your main folder)\n",
    "      * (base) F:\\knc>conda create -n virtualpy python==3.12 -y (make your own virtual environment now just type this command after this command your virtual environment is ready) \n",
    "      * (base) F:\\knc>conda activate virtualpy (type this command just activate your virtual environment)\n",
    "      * install following packages\n",
    "      * (virtualpy) F:\\knc>pip install numpy\n",
    "      * (virtualpy) F:\\knc>pip install pandas\n",
    "      * (virtualpy) F:\\knc>pip install jupyter\n",
    "      * (virtualpy) F:\\knc>pip install mypy\n",
    "      * go in your vs.code \n",
    "      * (virtualpy) F:\\knc> code ..\n",
    "      * make a file here name.py print(\"something\") and run select your interpreter here your out ready 'something'.\n",
    "      * make a file here name.ipynb go +code and print(\"something\") select your kernel and run your command here your out ready 'something'\n",
    "\n",
    " \n"
   ]
  }
 ],
 "metadata": {
  "kernelspec": {
   "display_name": "Python 3",
   "language": "python",
   "name": "python3"
  },
  "language_info": {
   "codemirror_mode": {
    "name": "ipython",
    "version": 3
   },
   "file_extension": ".py",
   "mimetype": "text/x-python",
   "name": "python",
   "nbconvert_exporter": "python",
   "pygments_lexer": "ipython3",
   "version": "3.12.0"
  }
 },
 "nbformat": 4,
 "nbformat_minor": 2
}
