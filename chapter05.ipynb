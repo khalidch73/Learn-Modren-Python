{
 "cells": [
  {
   "cell_type": "code",
   "execution_count": 2,
   "metadata": {},
   "outputs": [
    {
     "name": "stdout",
     "output_type": "stream",
     "text": [
      "else is working\n"
     ]
    }
   ],
   "source": [
    "if True:\n",
    "    print(\"true statement\")\n",
    "else:\n",
    "    print(\"else is working\")\n",
    "\n"
   ]
  },
  {
   "cell_type": "code",
   "execution_count": 4,
   "metadata": {},
   "outputs": [
    {
     "name": "stdout",
     "output_type": "stream",
     "text": [
      "else is work now\n"
     ]
    }
   ],
   "source": [
    "if True:\n",
    "    print(\"true statement\")\n",
    "elif False:\n",
    "    print(\"a is work\")\n",
    "elif False:\n",
    "    print(\"b is work\")\n",
    "else:\n",
    "    print(\"else is work now\")\n"
   ]
  },
  {
   "cell_type": "markdown",
   "metadata": {},
   "source": [
    "# Examination score system"
   ]
  },
  {
   "cell_type": "code",
   "execution_count": 1,
   "metadata": {},
   "outputs": [
    {
     "name": "stdout",
     "output_type": "stream",
     "text": [
      "Your per is = 44.0\n",
      "Your score is = Fail\n"
     ]
    }
   ],
   "source": [
    "from typing import Union\n",
    "per : Union[int, float] = float(input(\"Enter your per\")) # float will sport in points values.\n",
    "score : str = None\n",
    "\n",
    "if per >= 101:\n",
    "    score = \"Invalid\"\n",
    "elif per >= 80.00:\n",
    "    score = 'A'\n",
    "elif per >= 70.00:\n",
    "    score = \"B\"\n",
    "elif per >= 60.00:\n",
    "    score = \"C\"\n",
    "elif per >= 50.00:\n",
    "    score = \"D\"\n",
    "else:\n",
    "    score = \"Fail\"\n",
    "print(f'Your per is = {per}\\nYour score is = {score}')"
   ]
  },
  {
   "cell_type": "code",
   "execution_count": 8,
   "metadata": {},
   "outputs": [
    {
     "name": "stdout",
     "output_type": "stream",
     "text": [
      "invalid user\n"
     ]
    }
   ],
   "source": [
    "user_name : str = str(input(\"Enter your name\"))\n",
    "user_password : str = str(input(\"Enter your password\"))\n",
    "if user_name == \"admin\" and user_password == \"admin\":\n",
    "    user_otp: int = int(input(\"inter your otp code\"))\n",
    "    if user_otp == 123:\n",
    "        print(\"welcome to PIAIC\")\n",
    "    else:      \n",
    "        print(\"Enter your correct otp code\")\n",
    "else:\n",
    "    print(\"invalid user\")\n"
   ]
  },
  {
   "cell_type": "code",
   "execution_count": 11,
   "metadata": {},
   "outputs": [
    {
     "name": "stdout",
     "output_type": "stream",
     "text": [
      "Ali\n",
      "SAAD\n",
      "Walled\n"
     ]
    }
   ],
   "source": [
    "# a simple example \n",
    "names: str = ['ali', \"saad\", 'walled']\n",
    "for name in names:\n",
    "    if name == \"saad\":\n",
    "        print(name.upper())\n",
    "    else:\n",
    "        print(name.title())"
   ]
  },
  {
   "cell_type": "code",
   "execution_count": 24,
   "metadata": {},
   "outputs": [
    {
     "name": "stdout",
     "output_type": "stream",
     "text": [
      "ali is not present in class.\n"
     ]
    }
   ],
   "source": [
    "student_attendance: str = str(input(\"Enter student name\")) \n",
    "if student_attendance == \"ali\":\n",
    "    print(f'{student_attendance} is not present in class.')\n",
    "else:\n",
    "    print(f'{student_attendance} is present in class.')\n",
    "\n"
   ]
  },
  {
   "cell_type": "code",
   "execution_count": 29,
   "metadata": {},
   "outputs": [
    {
     "name": "stdout",
     "output_type": "stream",
     "text": [
      "you are correct\n"
     ]
    }
   ],
   "source": [
    "answer : int = int(input(\"Enter your answer\"))\n",
    "if answer != 42:\n",
    "    print(\"enter your correct answer\")\n",
    "else:\n",
    "    print(\"you are correct\")"
   ]
  },
  {
   "cell_type": "code",
   "execution_count": 32,
   "metadata": {},
   "outputs": [
    {
     "data": {
      "text/plain": [
       "False"
      ]
     },
     "execution_count": 32,
     "metadata": {},
     "output_type": "execute_result"
    }
   ],
   "source": [
    "names: str = ['ali', \"saad\", 'walled']\n",
    "\"ali\" in names\n",
    "\"nawaz\" in names"
   ]
  },
  {
   "cell_type": "markdown",
   "metadata": {},
   "source": [
    "# make a system of dropout student "
   ]
  },
  {
   "cell_type": "code",
   "execution_count": 36,
   "metadata": {},
   "outputs": [
    {
     "name": "stdout",
     "output_type": "stream",
     "text": [
      "Sorry your dropout\n"
     ]
    }
   ],
   "source": [
    "names_of_dropout_students: str = ['ali', \"saad\", 'waleed']\n",
    "student_name : str = str(input(\"Enter your name\"))\n",
    "if student_name not in names_of_dropout_students:\n",
    "    print(\"Join your class\")\n",
    "else:\n",
    "    print(\"Sorry your dropout\")\n"
   ]
  },
  {
   "cell_type": "markdown",
   "metadata": {},
   "source": [
    "# make a voting system"
   ]
  },
  {
   "cell_type": "code",
   "execution_count": 44,
   "metadata": {},
   "outputs": [
    {
     "name": "stdout",
     "output_type": "stream",
     "text": [
      "You are not eligible for vote.\n",
      "Please register to vote as soon as you turn 18.\n"
     ]
    }
   ],
   "source": [
    "voter_age_input: int =int(input(\"Enter your age\"))\n",
    "if voter_age_input >= 18:\n",
    "    print(\"You are eligible for vote.\")\n",
    "    print(\"Have you registered to vote yet?\")\n",
    "else:\n",
    "    print(\"You are not eligible for vote.\")\n",
    "    print(\"Please register to vote as soon as you turn 18.\")\n"
   ]
  },
  {
   "cell_type": "markdown",
   "metadata": {},
   "source": [
    "# Make a paid log in system on the base of age "
   ]
  },
  {
   "cell_type": "code",
   "execution_count": 56,
   "metadata": {},
   "outputs": [
    {
     "name": "stdout",
     "output_type": "stream",
     "text": [
      "You have to pay $25 for log in.\n"
     ]
    }
   ],
   "source": [
    "user_age : int = int(input(\"Enter your age\"))\n",
    "if user_age <= 14:\n",
    "    print(\"You have to pay $1 for log in.\")\n",
    "elif user_age <= 18:\n",
    "    print(\"You have to pay $10 for log in.\")\n",
    "elif user_age <= 22:\n",
    "    print(\"You have to pay $30 for log in.\")\n",
    "elif user_age <= 30:\n",
    "    print(\"You have to pay $50 for log in.\")\n",
    "elif user_age <= 50:\n",
    "    print(\"You have to pay $100 for log in.\")\n",
    "elif user_age >50:\n",
    "    print(\"You have to pay $25 for log in.\")\n",
    "else:\n",
    "    print(\"You have to pay $20 for log in.\")\n"
   ]
  },
  {
   "cell_type": "markdown",
   "metadata": {},
   "source": [
    "# Make your own Pizza"
   ]
  },
  {
   "cell_type": "code",
   "execution_count": 66,
   "metadata": {},
   "outputs": [
    {
     "name": "stdout",
     "output_type": "stream",
     "text": [
      "adding mushrooms\n",
      "adding chicken\n",
      "\n",
      "Enjoy your Pizza\n"
     ]
    }
   ],
   "source": [
    "make_your_own_pizza: list[str] = ['mushrooms', 'chicken']\n",
    "if 'mushrooms' in make_your_own_pizza:\n",
    "    print(\"adding mushrooms\")\n",
    "if 'chicken' in make_your_own_pizza:\n",
    "    print(\"adding chicken\")\n",
    "if 'vegetables' in make_your_own_pizza:\n",
    "    print(\"adding vegetables\")\n",
    "if 'extra cheese' in make_your_own_pizza:\n",
    "    print(\"adding extra cheese\")\n",
    "print(\"\\nEnjoy your Pizza\")"
   ]
  },
  {
   "cell_type": "code",
   "execution_count": 77,
   "metadata": {},
   "outputs": [
    {
     "name": "stdout",
     "output_type": "stream",
     "text": [
      "Adding mushrooms\n",
      "Adding chicken\n",
      "Adding vegetables\n",
      "Adding extra cheese\n",
      "Sorry mango is not available yet!\n",
      "\n",
      "Enjoy your Pizza\n"
     ]
    }
   ],
   "source": [
    "special_requests: list[str] = ['mushrooms', 'chicken','vegetables', 'extra cheese','Mango']\n",
    "for special_request in special_requests:\n",
    "    if special_request == \"Mango\":\n",
    "        print(\"Sorry mango is not available yet!\")\n",
    "    else:\n",
    "      print(f'Adding {special_request}')\n",
    "print(\"\\nEnjoy your Pizza\")"
   ]
  },
  {
   "cell_type": "code",
   "execution_count": 79,
   "metadata": {},
   "outputs": [
    {
     "name": "stdout",
     "output_type": "stream",
     "text": [
      "Sorry your requested topping in not available.\n",
      "Sorry your requested topping in not available.\n",
      "Adding mushrooms\n",
      "Adding extra cheese\n",
      "\n",
      "Enjoy your Pizza\n"
     ]
    }
   ],
   "source": [
    "available_toppings: list[str] = ['mushrooms', 'chicken','vegetables', 'extra cheese','Mango']\n",
    "requested_toppings: list[str] = [\"carrot\", \"onion\", \"mushrooms\", \"extra cheese\"]\n",
    "for requested_topping in requested_toppings:\n",
    "    if requested_topping in available_toppings:\n",
    "        print(f'Adding {requested_topping}')\n",
    "    else:\n",
    "        print(\"Sorry your requested topping in not available.\")\n",
    "print(\"\\nEnjoy your Pizza\")\n"
   ]
  },
  {
   "cell_type": "code",
   "execution_count": 80,
   "metadata": {},
   "outputs": [
    {
     "name": "stdout",
     "output_type": "stream",
     "text": [
      "a and b are equal\n"
     ]
    }
   ],
   "source": [
    "a = 33\n",
    "b = 33\n",
    "if b > a:\n",
    "  print(\"b is greater than a\")\n",
    "elif a == b:\n",
    "  print(\"a and b are equal\")"
   ]
  },
  {
   "cell_type": "code",
   "execution_count": 82,
   "metadata": {},
   "outputs": [
    {
     "name": "stdout",
     "output_type": "stream",
     "text": [
      "A is equal to B\n"
     ]
    }
   ],
   "source": [
    "if a == b: print(\"A is equal to B\")"
   ]
  },
  {
   "cell_type": "markdown",
   "metadata": {},
   "source": [
    "# while loops "
   ]
  },
  {
   "cell_type": "code",
   "execution_count": 92,
   "metadata": {},
   "outputs": [
    {
     "name": "stdout",
     "output_type": "stream",
     "text": [
      "1\n",
      "2\n",
      "3\n",
      "4\n",
      "5\n",
      "6\n",
      "7\n",
      "8\n",
      "9\n",
      "10\n"
     ]
    }
   ],
   "source": [
    "i = 1 \n",
    "while i < 11:\n",
    "    print(i)\n",
    "    i += 1"
   ]
  },
  {
   "cell_type": "code",
   "execution_count": 94,
   "metadata": {},
   "outputs": [
    {
     "name": "stdout",
     "output_type": "stream",
     "text": [
      "1\n",
      "2\n",
      "3\n"
     ]
    }
   ],
   "source": [
    "# using break function \n",
    "i = 1 \n",
    "while i < 11:\n",
    "    print(i)\n",
    "    if i == 3:\n",
    "        break\n",
    "    i += 1"
   ]
  },
  {
   "cell_type": "code",
   "execution_count": 96,
   "metadata": {},
   "outputs": [
    {
     "name": "stdout",
     "output_type": "stream",
     "text": [
      "1\n",
      "2\n",
      "4\n",
      "5\n",
      "6\n"
     ]
    }
   ],
   "source": [
    "# using continue function \n",
    "i = 0\n",
    "while i < 6:\n",
    "  i += 1\n",
    "  if i == 3:\n",
    "    continue\n",
    "  print(i)"
   ]
  },
  {
   "cell_type": "code",
   "execution_count": 97,
   "metadata": {},
   "outputs": [
    {
     "name": "stdout",
     "output_type": "stream",
     "text": [
      "1\n",
      "2\n",
      "3\n",
      "4\n",
      "5\n",
      "i is no longer less than 6\n"
     ]
    }
   ],
   "source": [
    "# The else Statement\n",
    "# With the else statement we can run a block of code once when the condition no longer is true:\n",
    "# Example\n",
    "# Print a message once the condition is false:\n",
    "i = 1\n",
    "while i < 6:\n",
    "  print(i)\n",
    "  i += 1\n",
    "else:\n",
    "  print(\"i is no longer less than 6\")"
   ]
  }
 ],
 "metadata": {
  "kernelspec": {
   "display_name": "Python 3",
   "language": "python",
   "name": "python3"
  },
  "language_info": {
   "codemirror_mode": {
    "name": "ipython",
    "version": 3
   },
   "file_extension": ".py",
   "mimetype": "text/x-python",
   "name": "python",
   "nbconvert_exporter": "python",
   "pygments_lexer": "ipython3",
   "version": "3.12.0"
  }
 },
 "nbformat": 4,
 "nbformat_minor": 2
}
