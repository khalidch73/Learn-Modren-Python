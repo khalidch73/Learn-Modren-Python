{
 "cells": [
  {
   "cell_type": "markdown",
   "metadata": {},
   "source": [
    "# variable 01"
   ]
  },
  {
   "cell_type": "code",
   "execution_count": 158,
   "metadata": {},
   "outputs": [
    {
     "name": "stdout",
     "output_type": "stream",
     "text": [
      "Hello world im learning python\n",
      "Hello world im learning python underscore\n"
     ]
    }
   ],
   "source": [
    "# variable \n",
    "message : str = \"Hello world im learning python\"\n",
    "print(message)\n",
    "# message is a variable name str is a type of variable and \"Hello world im learning python\" is a value of variable in str \n",
    "message_01 : str = \"Hello world im learning python\"\n",
    "# variable name can be text, number, underscore or combination of 03.\n",
    "_message : str = \"Hello world im learning python underscore\"\n",
    "print(_message)\n",
    "# variable name can be strate by text or underscore but never start with number \n",
    "# 01_message : str = \"variable name never be started with number\"\n",
    "Python : str = \"avoid to start variable by name Python \"\n",
    "# spaces are allowed in variable name "
   ]
  },
  {
   "cell_type": "markdown",
   "metadata": {},
   "source": [
    "# constant\n",
    "* python has not constant value but programmer make variable constant by assign name of variable in CAPITAL letters.\n"
   ]
  },
  {
   "cell_type": "code",
   "execution_count": 194,
   "metadata": {},
   "outputs": [
    {
     "name": "stdout",
     "output_type": "stream",
     "text": [
      "khalid\n",
      "WALLED\n"
     ]
    }
   ],
   "source": [
    "NAME : str = \"khalid\"\n",
    "print(NAME)\n"
   ]
  },
  {
   "cell_type": "markdown",
   "metadata": {},
   "source": [
    "# strings 02"
   ]
  },
  {
   "cell_type": "markdown",
   "metadata": {},
   "source": [
    "# Strings are Arrays  \n",
    "* many other popular programming languages, strings in Python are arrays of bytes representing unicode characters.\n",
    "\n",
    "However, Python does not have a character data type, a single character is simply a string with a length of 1.\n",
    "\n",
    "Square brackets can be used to access elements of the string.\n",
    "\n"
   ]
  },
  {
   "cell_type": "code",
   "execution_count": 159,
   "metadata": {},
   "outputs": [
    {
     "name": "stdout",
     "output_type": "stream",
     "text": [
      "o\n"
     ]
    }
   ],
   "source": [
    "# Example\n",
    "# Get the character at position 1 (remember that the first character has the position 0):\n",
    "a = \"Hello, World!\"\n",
    "print(a[8])\n"
   ]
  },
  {
   "cell_type": "markdown",
   "metadata": {},
   "source": [
    "# looping Through a String\n",
    "* Since strings are arrays, we can loop through the characters in a string, with a for loop.\n",
    "\n"
   ]
  },
  {
   "cell_type": "code",
   "execution_count": 160,
   "metadata": {},
   "outputs": [
    {
     "name": "stdout",
     "output_type": "stream",
     "text": [
      "b\n",
      "a\n",
      "n\n",
      "a\n",
      "n\n",
      "a\n"
     ]
    }
   ],
   "source": [
    "#Example\n",
    "#Loop through the letters in the word \"banana\":\n",
    "\n",
    "for x in \"banana\":\n",
    "  print(x)"
   ]
  },
  {
   "cell_type": "markdown",
   "metadata": {},
   "source": [
    "# String Length\n",
    "* To get the length of a string, use the len() function.\n",
    "\n",
    "Example\n",
    "The len() function returns the length of a string:\n",
    "\n"
   ]
  },
  {
   "cell_type": "code",
   "execution_count": 161,
   "metadata": {},
   "outputs": [
    {
     "name": "stdout",
     "output_type": "stream",
     "text": [
      "13\n"
     ]
    }
   ],
   "source": [
    "a = \"Hello, World!\"\n",
    "print(len(a))"
   ]
  },
  {
   "cell_type": "markdown",
   "metadata": {},
   "source": [
    "# multiline string \n",
    "   * \"\"\" \"\"\" , ''' '''"
   ]
  },
  {
   "cell_type": "code",
   "execution_count": 162,
   "metadata": {},
   "outputs": [
    {
     "name": "stdout",
     "output_type": "stream",
     "text": [
      "\n",
      "Name        = Khalid nawaz ch \n",
      "Father Name = shah nawaz\n",
      "ID          = 12345\n",
      "Education   = BS in AI\n",
      "\n",
      "Lorem ipsum dolor sit amet,\n",
      "consectetur adipiscing elit,\n",
      "sed do eiusmod tempor incididunt\n",
      "ut labore et dolore magna aliqua.\n",
      "Lorem ipsum dolor sit amet,\n",
      "consectetur adipiscing elit,\n",
      "sed do eiusmod tempor incididunt\n",
      "ut labore et dolore magna aliqua\n"
     ]
    }
   ],
   "source": [
    "# make a card here using multiline string and f string function \n",
    "name : str = \"Khalid nawaz ch\"\n",
    "father_name : str = \"shah nawaz\"\n",
    "id : int = 12345\n",
    "education : str = \"BS in AI\"\n",
    "card : str = f'''\n",
    "Name        = {name} \n",
    "Father Name = {father_name}\n",
    "ID          = {id}\n",
    "Education   = {education}\n",
    "'''\n",
    "print(card)\n",
    "# multiline string \n",
    "# example 01\n",
    "a = \"\"\"Lorem ipsum dolor sit amet,\n",
    "consectetur adipiscing elit,\n",
    "sed do eiusmod tempor incididunt\n",
    "ut labore et dolore magna aliqua.\"\"\"\n",
    "print(a)\n",
    "# example 02\n",
    "a = '''Lorem ipsum dolor sit amet,\n",
    "consectetur adipiscing elit,\n",
    "sed do eiusmod tempor incididunt\n",
    "ut labore et dolore magna aliqua'''\n",
    "print(a)"
   ]
  },
  {
   "cell_type": "markdown",
   "metadata": {},
   "source": [
    "# Check String\n",
    "* To check if a certain phrase or character is present in a string, we can use the keyword in.\n",
    "\n",
    "Example\n",
    "Check if \"free\" is present in the following text:\n",
    "\n"
   ]
  },
  {
   "cell_type": "code",
   "execution_count": 163,
   "metadata": {},
   "outputs": [
    {
     "name": "stdout",
     "output_type": "stream",
     "text": [
      "True\n",
      "Yes, 'free' is present.\n"
     ]
    }
   ],
   "source": [
    "txt = \"The best things in life are free!\"\n",
    "print(\"free\" in txt)\n",
    "\n",
    "# Use it in an if statement:\n",
    "# Example\n",
    "# Print only if \"free\" is present:\n",
    "\n",
    "txt = \"The best things in life are free!\"\n",
    "if \"free\" in txt:\n",
    "  print(\"Yes, 'free' is present.\")\n"
   ]
  },
  {
   "cell_type": "markdown",
   "metadata": {},
   "source": [
    "# Check if NOT\n",
    "* To check if a certain phrase or character is NOT present in a string, we can use the keyword not in.\n",
    "\n",
    "Example\n",
    "Check if \"expensive\" is NOT present in the following text:\n",
    "\n"
   ]
  },
  {
   "cell_type": "code",
   "execution_count": 164,
   "metadata": {},
   "outputs": [
    {
     "name": "stdout",
     "output_type": "stream",
     "text": [
      "True\n",
      "No, 'expensive' is NOT present.\n"
     ]
    }
   ],
   "source": [
    "txt = \"The best things in life are free!\"\n",
    "print(\"expensive\" not in txt)\n",
    "# Use it in an if statement:\n",
    "# Example\n",
    "# print only if \"expensive\" is NOT present:\n",
    "txt = \"The best things in life are free!\"\n",
    "if \"expensive\" not in txt:\n",
    "  print(\"No, 'expensive' is NOT present.\")"
   ]
  },
  {
   "cell_type": "markdown",
   "metadata": {},
   "source": [
    "# Slicing\n",
    "* You can return a range of characters by using the slice syntax.\n",
    "\n",
    "Specify the start index and the end index, separated by a colon, to return a part of the string."
   ]
  },
  {
   "cell_type": "code",
   "execution_count": 165,
   "metadata": {},
   "outputs": [
    {
     "name": "stdout",
     "output_type": "stream",
     "text": [
      "Hello,\n"
     ]
    }
   ],
   "source": [
    "# Example \n",
    "# Get the characters from position 0 to position 5 (not included):\n",
    "\n",
    "b = \"Hello, World!\"\n",
    "print(b[0:6])\n"
   ]
  },
  {
   "cell_type": "markdown",
   "metadata": {},
   "source": [
    "# Slice From the Start\n",
    "* By leaving out the start index, the range will start at the first character:\n",
    "\n",
    "Example\n",
    "Get the characters from the start to position 5 (not included):\n",
    "\n"
   ]
  },
  {
   "cell_type": "code",
   "execution_count": 166,
   "metadata": {},
   "outputs": [
    {
     "name": "stdout",
     "output_type": "stream",
     "text": [
      "Hello\n"
     ]
    }
   ],
   "source": [
    "b = \"Hello, World!\"\n",
    "print(b[:5])\n"
   ]
  },
  {
   "cell_type": "markdown",
   "metadata": {},
   "source": [
    "# Slice To the End\n",
    "* By leaving out the end index, the range will go to the end:\n",
    "\n",
    "Example\n",
    "Get the characters from position 2, and all the way to the end:"
   ]
  },
  {
   "cell_type": "code",
   "execution_count": 167,
   "metadata": {},
   "outputs": [
    {
     "name": "stdout",
     "output_type": "stream",
     "text": [
      "llo, World!\n"
     ]
    }
   ],
   "source": [
    "b = \"Hello, World!\"\n",
    "print(b[2:])"
   ]
  },
  {
   "cell_type": "markdown",
   "metadata": {},
   "source": [
    "# Negative Indexing\n",
    "* Use negative indexes to start the slice from the end of the string:\n",
    "Example\n",
    "Get the characters:\n",
    "\n",
    "From: \"o\" in \"World!\" (position -5)\n",
    "\n",
    "To, but not included: \"d\" in \"World!\" (position -2):\n"
   ]
  },
  {
   "cell_type": "code",
   "execution_count": 168,
   "metadata": {},
   "outputs": [
    {
     "name": "stdout",
     "output_type": "stream",
     "text": [
      "orl\n"
     ]
    }
   ],
   "source": [
    "b = \"Hello, World!\"\n",
    "print(b[-5:-2])"
   ]
  },
  {
   "cell_type": "markdown",
   "metadata": {},
   "source": [
    "# Split String\n",
    "* The split() method returns a list where the text between the specified separator becomes the list items.\n",
    "Example\n",
    "The split() method splits the string into substrings if it finds instances of the separator:"
   ]
  },
  {
   "cell_type": "code",
   "execution_count": 169,
   "metadata": {},
   "outputs": [
    {
     "name": "stdout",
     "output_type": "stream",
     "text": [
      "['Hello', ' World!']\n"
     ]
    },
    {
     "data": {
      "text/plain": [
       "['Hello', ' World!']"
      ]
     },
     "metadata": {},
     "output_type": "display_data"
    }
   ],
   "source": [
    "a = \"Hello, World!\"\n",
    "print(a.split(\",\")) # returns ['Hello', ' World!']\n",
    "display(a.split(','))"
   ]
  },
  {
   "cell_type": "markdown",
   "metadata": {},
   "source": [
    "# String Concatenation\n",
    "To concatenate, or combine, two strings you can use the + operator.\n",
    "\n"
   ]
  },
  {
   "cell_type": "code",
   "execution_count": 170,
   "metadata": {},
   "outputs": [
    {
     "name": "stdout",
     "output_type": "stream",
     "text": [
      "HelloWorld\n",
      "Hello World\n"
     ]
    }
   ],
   "source": [
    "# Example\n",
    "# Merge variable a with variable b into variable c:\n",
    "\n",
    "a = \"Hello\"\n",
    "b = \"World\"\n",
    "c = a + b\n",
    "print(c)\n",
    "# Example\n",
    "# To add a space between them, add a \" \":\n",
    "\n",
    "a = \"Hello\"\n",
    "b = \"World\"\n",
    "c = a + \" \" + b\n",
    "print(c)"
   ]
  },
  {
   "cell_type": "markdown",
   "metadata": {},
   "source": [
    "# String Format\n",
    "As we learned in the Python Variables chapter, we cannot combine strings and numbers like this:\n",
    "\n"
   ]
  },
  {
   "cell_type": "code",
   "execution_count": 171,
   "metadata": {},
   "outputs": [
    {
     "name": "stdout",
     "output_type": "stream",
     "text": [
      "My name is John, and I am 36\n"
     ]
    }
   ],
   "source": [
    "# Example \n",
    "age = 36\n",
    "# txt = \"My name is John, I am \" + age\n",
    "# print(txt) typeerror \n",
    "'''But we can combine strings and numbers by using the format() method!\n",
    "\n",
    "The format() method takes the passed arguments, formats them, and places them in the string where the placeholders {} are:\n",
    "\n",
    "Example\n",
    "Use the format() method to insert numbers into strings:'''\n",
    "\n",
    "age = 36\n",
    "txt = \"My name is John, and I am {}\"\n",
    "print(txt.format(age))"
   ]
  },
  {
   "cell_type": "markdown",
   "metadata": {},
   "source": [
    "# Escape Character\n",
    "To insert characters that are illegal in a string, use an escape character.\n",
    "\n",
    "An escape character is a backslash \\ followed by the character you want to insert.\n",
    "\n",
    "An example of an illegal character is a double quote inside a string that is surrounded by double quotes:\n",
    "\n",
    "Other escape characters used in Python:\n",
    "\n",
    "Code\tResult\tTry it\n",
    "\\'\tSingle Quote\t\n",
    "\\\\\tBackslash\t\n",
    "\\n\tNew Line\t\n",
    "\\r\tCarriage Return\t\n",
    "\\t\tTab\t\n",
    "\\b\tBackspace\t\n",
    "\\f\tForm Feed\t\n",
    "\\ooo\tOctal value\t\n",
    "\\xhh\tHex value"
   ]
  },
  {
   "cell_type": "code",
   "execution_count": 172,
   "metadata": {},
   "outputs": [],
   "source": [
    "'''Example\n",
    "You will get an error if you use double quotes inside a string that is surrounded by double quotes:\n",
    "'''\n",
    "# txt = \"We are the so-called \"Vikings\" from the north.\"\n",
    "#To fix this problem, use the escape character \\\":\n",
    "# Example\n",
    "'''The escape character allows you to use double quotes when you normally would not be allowed:\n",
    "'''\n",
    "txt = \"We are the so-called \\\"Vikings\\\" from the north.\""
   ]
  },
  {
   "cell_type": "markdown",
   "metadata": {},
   "source": [
    "# Method\tDescription\n",
    "* capitalize()\tConverts the first character to upper case\n",
    "* casefold()\tConverts string into lower case\n",
    "* center()\tReturns a centered string\n",
    "* count()\tReturns the number of times a specified value occurs in a string\n",
    "* encode()\tReturns an encoded version of the string\n",
    "* endswith()\tReturns true if the string ends with the specified value\n",
    "* expandtabs()\tSets the tab size of the string\n",
    "* find()\tSearches the string for a specified value and returns the position of where it was found\n",
    "* format()\tFormats specified values in a string\n",
    "* format_map()\tFormats specified values in a string\n",
    "* index()\tSearches the string for a specified value and returns the position of where it was found\n",
    "* isalnum()\tReturns True if all characters in the string are alphanumeric\n",
    "* isalpha()\tReturns True if all characters in the string are in the alphabet\n",
    "* isascii()\tReturns True if all characters in the string are ascii characters\n",
    "* isdecimal()\tReturns True if all characters in the string are decimals\n",
    "* isdigit()\tReturns True if all characters in the string are digits\n",
    "* isidentifier()\tReturns True if the string is an identifier\n",
    "* islower()\tReturns True if all characters in the string are lower case\n",
    "* isnumeric()\tReturns True if all characters in the string are numeric\n",
    "* isprintable()\tReturns True if all characters in the string are printable\n",
    "* isspace()\tReturns True if all characters in the string are whitespaces\n",
    "* istitle()\tReturns True if the string follows the rules of a title\n",
    "* isupper()\tReturns True if all characters in the string are upper case\n",
    "* join()\tJoins the elements of an iterable to the end of the string\n",
    "* ljust()\tReturns a left justified version of the string\n",
    "* lower()\tConverts a string into lower case\n",
    "* lstrip()\tReturns a left trim version of the string\n",
    "* maketrans()\tReturns a translation table to be used in translations\n",
    "* partition()\tReturns a tuple where the string is parted into three parts\n",
    "* replace()\tReturns a string where a specified value is replaced with a specified value\n",
    "* rfind()\tSearches the string for a specified value and returns the last position of where it was found\n",
    "* rindex()\tSearches the string for a specified value and returns the last position of where it was found\n",
    "* rjust()\tReturns a right justified version of the string\n",
    "* rpartition()\tReturns a tuple where the string is parted into three parts\n",
    "* rsplit()\tSplits the string at the specified separator, and returns a list\n",
    "* rstrip()\tReturns a right trim version of the string\n",
    "* split()\tSplits the string at the specified separator, and returns a list\n",
    "* splitlines()\tSplits the string at line breaks and returns a list\n",
    "* startswith()\tReturns true if the string starts with the specified value\n",
    "* strip()\tReturns a trimmed version of the string\n",
    "* swapcase()\tSwaps cases, lower case becomes upper case and vice versa\n",
    "title()\tConverts the first character of each word to upper case\n",
    "* translate()\tReturns a translated string\n",
    "* upper()\tConverts a string into upper case\n",
    "* zfill()\tFills the string with a specified number of 0 values at the beginning\n"
   ]
  },
  {
   "cell_type": "markdown",
   "metadata": {},
   "source": [
    "# difference b/w print and display"
   ]
  },
  {
   "cell_type": "code",
   "execution_count": 173,
   "metadata": {},
   "outputs": [
    {
     "name": "stdout",
     "output_type": "stream",
     "text": [
      "khalid nawaz\n"
     ]
    },
    {
     "data": {
      "text/plain": [
       "'khalid nawaz'"
      ]
     },
     "metadata": {},
     "output_type": "display_data"
    }
   ],
   "source": [
    "name : str = \"khalid nawaz\"\n",
    "print(name)    # show value in string form \n",
    "display(name)  # show value in html form "
   ]
  },
  {
   "cell_type": "markdown",
   "metadata": {},
   "source": [
    "# changing case in a string with method \n"
   ]
  },
  {
   "cell_type": "code",
   "execution_count": 174,
   "metadata": {},
   "outputs": [
    {
     "name": "stdout",
     "output_type": "stream",
     "text": [
      "This Is A Title Method Of String\n",
      "THIS IS A UPPER METHOD OF STRING\n",
      "this is a lower method of string\n",
      "Ali nawaz\n",
      "ali nawaz\n",
      "                                   ali nawaz                                    \n",
      "1\n",
      "hello universe\n",
      "hello world\n",
      "hello world\n"
     ]
    },
    {
     "data": {
      "text/plain": [
       "'   khalid       nawaz ch      '"
      ]
     },
     "metadata": {},
     "output_type": "display_data"
    },
    {
     "data": {
      "text/plain": [
       "'khalid nawaz ch'"
      ]
     },
     "metadata": {},
     "output_type": "display_data"
    }
   ],
   "source": [
    "import re\n",
    "titleString : str = 'This is a title method of string'\n",
    "print(titleString.title())\n",
    "upperString : str = 'This is a upper method of string'\n",
    "print(upperString.upper())\n",
    "lowerString : str = 'This is a lower method of string'\n",
    "print(lowerString.lower())\n",
    "name : str = \"ali nawaz\"\n",
    "print(name.capitalize())\n",
    "print(name.casefold())# just like lower method \n",
    "print(name.center(80))\n",
    "print(name.count('i'))\n",
    "s = \"hello world\"\n",
    "new_s = s.replace('world', 'universe')\n",
    "print(new_s)  # Output: hello universe\n",
    "s = \"      hello world             \"\n",
    "print(s.strip())  # Output: hello world\n",
    "words = ['hello', 'world']\n",
    "s = ' '.join(words)\n",
    "print(s)  # Output: hello world\n",
    "name : str = \"   khalid       nawaz ch      \"\n",
    "display(name)\n",
    "name01 : str = re.sub(' {2,100}',' ', name).strip()\n",
    "display(name01)"
   ]
  },
  {
   "cell_type": "markdown",
   "metadata": {},
   "source": [
    "# using f string function add variable in a string. "
   ]
  },
  {
   "cell_type": "code",
   "execution_count": 175,
   "metadata": {},
   "outputs": [
    {
     "name": "stdout",
     "output_type": "stream",
     "text": [
      "a123\n",
      "Khalidnawaz\n",
      "Hello! Khalid nawaz ch welcome to\n",
      "Hello! Khalid Nawaz Ch Welcome To PIAIC\n"
     ]
    }
   ],
   "source": [
    "# concatenation method \n",
    "\n",
    "firstName01 : str = \"Khalid\"\n",
    "secondName01 : str = \"nawaz\"\n",
    "a : str = \"a\" \n",
    "b : str = \"123\"\n",
    "print(a+b)\n",
    "concatenation : str = firstName01 + secondName01\n",
    "print(concatenation)\n",
    "# using f string function \n",
    "firstName : str = \"Khalid\"\n",
    "secondName : str = \"nawaz\"\n",
    "lastName : str = \"ch\"\n",
    "Piaic : str = \"PIAIC\"\n",
    "fullname : str = f'Hello! {firstName} {secondName} {lastName} welcome to'\n",
    "print(fullname)\n",
    "print(f'{fullname.title()} PIAIC')"
   ]
  },
  {
   "cell_type": "markdown",
   "metadata": {},
   "source": [
    "# Adding whitespace to sting with tabs and newlines   "
   ]
  },
  {
   "cell_type": "code",
   "execution_count": 176,
   "metadata": {},
   "outputs": [
    {
     "name": "stdout",
     "output_type": "stream",
     "text": [
      "This is a adding whitespace method using Tabs\t and \n",
      " Newline in string\n"
     ]
    }
   ],
   "source": [
    "whitespacesString : str = 'This is a adding whitespace method using Tabs\\t and \\n Newline in string'\n",
    "print(whitespacesString)"
   ]
  },
  {
   "cell_type": "markdown",
   "metadata": {},
   "source": [
    "# stripping whitespace \n",
    "delete extra spaces "
   ]
  },
  {
   "cell_type": "code",
   "execution_count": 177,
   "metadata": {},
   "outputs": [
    {
     "name": "stdout",
     "output_type": "stream",
     "text": [
      "      This is a stripping         whitespace method in string.\n",
      "This is a stripping         whitespace method in string.\n",
      "This is a stripping         whitespace method in string.\n",
      "['This', 'is', 'a', 'stripping', 'whitespace', 'method', 'in', 'string.']\n"
     ]
    }
   ],
   "source": [
    "strippingWhitespacesString : str = '      This is a stripping         whitespace method in string.'\n",
    "rStrippingWhitespacesString: str = strippingWhitespacesString.rstrip()\n",
    "lStrippingWhitespacesString: str = strippingWhitespacesString.lstrip()\n",
    "sStrippingWhitespacesString: str = strippingWhitespacesString.strip()\n",
    "splitStrippingWhitespacesString: str = strippingWhitespacesString.split()\n",
    "print(rStrippingWhitespacesString)\n",
    "print(lStrippingWhitespacesString)\n",
    "print(sStrippingWhitespacesString)\n",
    "print(splitStrippingWhitespacesString)\n",
    "\n",
    "\n"
   ]
  },
  {
   "cell_type": "markdown",
   "metadata": {},
   "source": [
    " # Removing prefixes \n"
   ]
  },
  {
   "cell_type": "code",
   "execution_count": 178,
   "metadata": {},
   "outputs": [
    {
     "name": "stdout",
     "output_type": "stream",
     "text": [
      "ithub.com/panaverse/learng-modern-python/blob/main/02_class(string_fstring)/class2.ipynb https://github.com/khalidch73/LearnPython/settings\n"
     ]
    }
   ],
   "source": [
    "url : str = \"https://ithub.com/panaverse/learng-modern-python/blob/main/02_class(string_fstring)/class2.ipynb https://github.com/khalidch73/LearnPython/settings\"\n",
    "print(url.removeprefix('https://'))"
   ]
  },
  {
   "cell_type": "markdown",
   "metadata": {},
   "source": [
    "# Numbers 03"
   ]
  },
  {
   "cell_type": "markdown",
   "metadata": {},
   "source": [
    "# Integers"
   ]
  },
  {
   "cell_type": "markdown",
   "metadata": {},
   "source": [
    "# Python Numbers\n",
    "There are three numeric types in Python:\n",
    "\n",
    "int\n",
    "float\n",
    "complex\n",
    "Variables of numeric types are created when you assign a value to them:\n"
   ]
  },
  {
   "cell_type": "code",
   "execution_count": 179,
   "metadata": {},
   "outputs": [
    {
     "name": "stdout",
     "output_type": "stream",
     "text": [
      "<class 'int'>\n",
      "<class 'float'>\n",
      "<class 'complex'>\n",
      "<class 'int'>\n",
      "<class 'int'>\n",
      "<class 'int'>\n",
      "<class 'float'>\n",
      "<class 'float'>\n",
      "<class 'float'>\n",
      "<class 'float'>\n",
      "<class 'float'>\n",
      "<class 'float'>\n",
      "<class 'complex'>\n",
      "<class 'complex'>\n",
      "<class 'complex'>\n"
     ]
    }
   ],
   "source": [
    "x : int = 1    # int\n",
    "y : float = 2.8  # float\n",
    "z : complex = 1j   # complex\n",
    "# To verify the type of any object in Python, use the type() function:\n",
    "print(type(x))\n",
    "print(type(y))\n",
    "print(type(z))\n",
    "# Example\n",
    "# Integers:\n",
    "x = 1\n",
    "y = 35656222554887711\n",
    "z = -3255522\n",
    "print(type(x))\n",
    "print(type(y))\n",
    "print(type(z))\n",
    "# Example\n",
    "# Floats:\n",
    "x = 1.10\n",
    "y = 1.0\n",
    "z = -35.59\n",
    "print(type(x))\n",
    "print(type(y))\n",
    "print(type(z))\n",
    "# Float can also be scientific numbers with an \"e\" to indicate the power of 10.\n",
    "x = 35e3\n",
    "y = 12E4\n",
    "z = -87.7e100\n",
    "print(type(x))\n",
    "print(type(y))\n",
    "print(type(z))\n",
    "# Complex numbers are written with a \"j\" as the imaginary part:\n",
    "# Example\n",
    "# Complex:\n",
    "x = 3+5j\n",
    "y = 5j\n",
    "z = -5j\n",
    "\n",
    "print(type(x))\n",
    "print(type(y))\n",
    "print(type(z))"
   ]
  },
  {
   "cell_type": "code",
   "execution_count": 180,
   "metadata": {},
   "outputs": [
    {
     "name": "stdout",
     "output_type": "stream",
     "text": [
      "1.0\n",
      "2\n",
      "(1+0j)\n",
      "<class 'float'>\n",
      "<class 'int'>\n",
      "<class 'complex'>\n"
     ]
    }
   ],
   "source": [
    "'''Type Conversion\n",
    "You can convert from one type to another with the int(), float(), and complex() methods:\n",
    "\n",
    "Example\n",
    "Convert from one type to another:'''\n",
    "\n",
    "x = 1    # int\n",
    "y = 2.8  # float\n",
    "z = 1j   # complex\n",
    "\n",
    "#convert from int to float:\n",
    "a = float(x)\n",
    "\n",
    "#convert from float to int:\n",
    "b = int(y)\n",
    "\n",
    "#convert from int to complex:\n",
    "c = complex(x)\n",
    "\n",
    "print(a)\n",
    "print(b)\n",
    "print(c)\n",
    "\n",
    "print(type(a))\n",
    "print(type(b))\n",
    "print(type(c))"
   ]
  },
  {
   "cell_type": "markdown",
   "metadata": {},
   "source": [
    "# Random Number\n",
    "* Python does not have a random() function to make a random number, but Python has a built-in module called random that can be used to make random numbers:\n",
    "\n",
    "Example\n",
    "Import the random module, and display a random number between 1 and 9:\n"
   ]
  },
  {
   "cell_type": "code",
   "execution_count": 181,
   "metadata": {},
   "outputs": [
    {
     "name": "stdout",
     "output_type": "stream",
     "text": [
      "5\n"
     ]
    },
    {
     "data": {
      "text/plain": [
       "37"
      ]
     },
     "metadata": {},
     "output_type": "display_data"
    }
   ],
   "source": [
    "import random\n",
    "print(random.randrange(1, 10)) \n",
    "display(random.randrange(20, 100))"
   ]
  },
  {
   "cell_type": "markdown",
   "metadata": {},
   "source": [
    "# Python Arithmetic Operators"
   ]
  },
  {
   "cell_type": "code",
   "execution_count": 182,
   "metadata": {},
   "outputs": [
    {
     "name": "stdout",
     "output_type": "stream",
     "text": [
      "4\n",
      "0\n",
      "4\n",
      "1.0\n",
      "0\n",
      "4\n",
      "1\n"
     ]
    }
   ],
   "source": [
    "'''+\tAddition\tx + y\t\n",
    "-\tSubtraction\tx - y\t\n",
    "*\tMultiplication\tx * y\t\n",
    "/\tDivision\tx / y\t\n",
    "%\tModulus\tx % y\t\n",
    "**\tExponentiation\tx ** y\t\n",
    "//\tFloor division\tx // y'''\n",
    "print(2+2)\n",
    "print(2-2)\n",
    "print(2*2)\n",
    "print(2/2)\n",
    "print(2%2)\n",
    "print(2**2)\n",
    "print(2//2) # round it and print minimum value here \n"
   ]
  },
  {
   "cell_type": "markdown",
   "metadata": {},
   "source": [
    "# Python Assignment Operators\n"
   ]
  },
  {
   "cell_type": "code",
   "execution_count": 192,
   "metadata": {},
   "outputs": [
    {
     "name": "stdout",
     "output_type": "stream",
     "text": [
      "9\n",
      "1 2 3\n"
     ]
    }
   ],
   "source": [
    "a = 4\n",
    "x = a + 5\n",
    "print(x)\n",
    "x , y, z = 1, 2, 3\n",
    "# multiple assignment operators \n",
    "print(x,y,z)"
   ]
  },
  {
   "cell_type": "markdown",
   "metadata": {},
   "source": [
    "# Python Comparison Operators"
   ]
  },
  {
   "cell_type": "code",
   "execution_count": 184,
   "metadata": {},
   "outputs": [
    {
     "name": "stdout",
     "output_type": "stream",
     "text": [
      "True\n",
      "False\n",
      "False\n",
      "False\n",
      "True\n",
      "True\n"
     ]
    }
   ],
   "source": [
    "x = 10\n",
    "y = 10\n",
    "print(x == y)\n",
    "print(x != y)\n",
    "print(x > y)\n",
    "print(x < y)\n",
    "print(x <= y)\n",
    "print(x >= y)\n",
    " \n"
   ]
  },
  {
   "cell_type": "markdown",
   "metadata": {},
   "source": [
    "# Python Logical Operators\n",
    "* and \tReturns True if both statements are true\tx < 5 and  x < 10\t\n",
    "* or\tReturns True if one of the statements is true\tx < 5 or x < 4\t\n",
    "* not\tReverse the result, returns False if the result is true\tnot(x < 5 and x < 10)\t\n"
   ]
  },
  {
   "cell_type": "code",
   "execution_count": 185,
   "metadata": {},
   "outputs": [
    {
     "name": "stdout",
     "output_type": "stream",
     "text": [
      "False\n",
      "False\n",
      "True\n"
     ]
    }
   ],
   "source": [
    "x = 10\n",
    "print(x < 5 and  x < 5)\t\n",
    "print(x < 5 or x < 4) \n",
    "print(not(x < 5 and x < 10))"
   ]
  },
  {
   "cell_type": "markdown",
   "metadata": {},
   "source": [
    "# Python Identity Operators\n",
    "is \tReturns True if both variables are the same object\tx is y\t\n",
    "is not\tReturns True if both variables are not the same object\tx is not y"
   ]
  },
  {
   "cell_type": "code",
   "execution_count": 186,
   "metadata": {},
   "outputs": [
    {
     "name": "stdout",
     "output_type": "stream",
     "text": [
      "True\n",
      "False\n"
     ]
    }
   ],
   "source": [
    "x = 5 \n",
    "y = 5 \n",
    "print(x is y)\n",
    "print(x is not y) "
   ]
  },
  {
   "cell_type": "markdown",
   "metadata": {},
   "source": [
    "# Python Membership Operators"
   ]
  },
  {
   "cell_type": "code",
   "execution_count": 187,
   "metadata": {},
   "outputs": [
    {
     "name": "stdout",
     "output_type": "stream",
     "text": [
      "True\n",
      "True\n",
      "False\n"
     ]
    }
   ],
   "source": [
    "x : list = [\"apple\", \"banana\", \"mango\"]\n",
    "print(\"apple\" in x)\n",
    "print(\"mango\" in x)\n",
    "print(\"charry\" in x)\n"
   ]
  },
  {
   "cell_type": "markdown",
   "metadata": {},
   "source": [
    "# Operator Precedence\n",
    "Operator precedence describes the order in which operations are performed."
   ]
  },
  {
   "cell_type": "code",
   "execution_count": 189,
   "metadata": {},
   "outputs": [
    {
     "name": "stdout",
     "output_type": "stream",
     "text": [
      "0\n"
     ]
    },
    {
     "data": {
      "text/plain": [
       "'\\nParenthesis have the highest precedence, and need to be evaluated first.\\nThe calculation above reads 9 - 9 = 0\\n'"
      ]
     },
     "execution_count": 189,
     "metadata": {},
     "output_type": "execute_result"
    }
   ],
   "source": [
    "print((6 + 3) - (6 + 3))\n",
    "\n",
    "\"\"\"\n",
    "Parenthesis have the highest precedence, and need to be evaluated first.\n",
    "The calculation above reads 9 - 9 = 0\n",
    "\"\"\"\n"
   ]
  },
  {
   "cell_type": "code",
   "execution_count": 190,
   "metadata": {},
   "outputs": [
    {
     "name": "stdout",
     "output_type": "stream",
     "text": [
      "115\n"
     ]
    },
    {
     "data": {
      "text/plain": [
       "'\\nMultiplication has higher precedence than addition, and needs to be evaluated first.\\nThe calculation above reads 100 + 15 = 115\\n'"
      ]
     },
     "execution_count": 190,
     "metadata": {},
     "output_type": "execute_result"
    }
   ],
   "source": [
    "print(100 + 5 * 3)\n",
    "\n",
    "\"\"\"\n",
    "Multiplication has higher precedence than addition, and needs to be evaluated first.\n",
    "The calculation above reads 100 + 15 = 115\n",
    "\"\"\"\n"
   ]
  },
  {
   "cell_type": "markdown",
   "metadata": {},
   "source": [
    "# import pandas as pd\n",
    "* this command used if we want to place a table which is already form on an other website."
   ]
  },
  {
   "cell_type": "code",
   "execution_count": 2,
   "metadata": {},
   "outputs": [
    {
     "data": {
      "text/html": [
       "<div>\n",
       "<style scoped>\n",
       "    .dataframe tbody tr th:only-of-type {\n",
       "        vertical-align: middle;\n",
       "    }\n",
       "\n",
       "    .dataframe tbody tr th {\n",
       "        vertical-align: top;\n",
       "    }\n",
       "\n",
       "    .dataframe thead th {\n",
       "        text-align: right;\n",
       "    }\n",
       "</style>\n",
       "<table border=\"1\" class=\"dataframe\">\n",
       "  <thead>\n",
       "    <tr style=\"text-align: right;\">\n",
       "      <th></th>\n",
       "      <th>Operator</th>\n",
       "      <th>Name</th>\n",
       "      <th>Example</th>\n",
       "      <th>Try it</th>\n",
       "    </tr>\n",
       "  </thead>\n",
       "  <tbody>\n",
       "    <tr>\n",
       "      <th>0</th>\n",
       "      <td>+</td>\n",
       "      <td>Addition</td>\n",
       "      <td>x + y</td>\n",
       "      <td>Try it »</td>\n",
       "    </tr>\n",
       "    <tr>\n",
       "      <th>1</th>\n",
       "      <td>-</td>\n",
       "      <td>Subtraction</td>\n",
       "      <td>x - y</td>\n",
       "      <td>Try it »</td>\n",
       "    </tr>\n",
       "    <tr>\n",
       "      <th>2</th>\n",
       "      <td>*</td>\n",
       "      <td>Multiplication</td>\n",
       "      <td>x * y</td>\n",
       "      <td>Try it »</td>\n",
       "    </tr>\n",
       "    <tr>\n",
       "      <th>3</th>\n",
       "      <td>/</td>\n",
       "      <td>Division</td>\n",
       "      <td>x / y</td>\n",
       "      <td>Try it »</td>\n",
       "    </tr>\n",
       "    <tr>\n",
       "      <th>4</th>\n",
       "      <td>%</td>\n",
       "      <td>Modulus</td>\n",
       "      <td>x % y</td>\n",
       "      <td>Try it »</td>\n",
       "    </tr>\n",
       "    <tr>\n",
       "      <th>5</th>\n",
       "      <td>**</td>\n",
       "      <td>Exponentiation</td>\n",
       "      <td>x ** y</td>\n",
       "      <td>Try it »</td>\n",
       "    </tr>\n",
       "    <tr>\n",
       "      <th>6</th>\n",
       "      <td>//</td>\n",
       "      <td>Floor division</td>\n",
       "      <td>x // y</td>\n",
       "      <td>Try it »</td>\n",
       "    </tr>\n",
       "  </tbody>\n",
       "</table>\n",
       "</div>"
      ],
      "text/plain": [
       "  Operator            Name Example    Try it\n",
       "0        +        Addition   x + y  Try it »\n",
       "1        -     Subtraction   x - y  Try it »\n",
       "2        *  Multiplication   x * y  Try it »\n",
       "3        /        Division   x / y  Try it »\n",
       "4        %         Modulus   x % y  Try it »\n",
       "5       **  Exponentiation  x ** y  Try it »\n",
       "6       //  Floor division  x // y  Try it »"
      ]
     },
     "execution_count": 2,
     "metadata": {},
     "output_type": "execute_result"
    }
   ],
   "source": [
    "import pandas as pd\n",
    "table = pd.read_html('https://www.w3schools.com/python/python_operators.asp')\n",
    "table[0]"
   ]
  }
 ],
 "metadata": {
  "kernelspec": {
   "display_name": "Python 3",
   "language": "python",
   "name": "python3"
  },
  "language_info": {
   "codemirror_mode": {
    "name": "ipython",
    "version": 3
   },
   "file_extension": ".py",
   "mimetype": "text/x-python",
   "name": "python",
   "nbconvert_exporter": "python",
   "pygments_lexer": "ipython3",
   "version": "3.12.0"
  }
 },
 "nbformat": 4,
 "nbformat_minor": 2
}
