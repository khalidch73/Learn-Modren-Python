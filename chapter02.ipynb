{
 "cells": [
  {
   "cell_type": "markdown",
   "metadata": {},
   "source": [
    "# variable "
   ]
  },
  {
   "cell_type": "code",
   "execution_count": 2,
   "metadata": {},
   "outputs": [
    {
     "name": "stdout",
     "output_type": "stream",
     "text": [
      "Hello world im learning python\n",
      "Hello world im learning python underscore\n"
     ]
    }
   ],
   "source": [
    "# variable \n",
    "message : str = \"Hello world im learning python\"\n",
    "print(message)\n",
    "# message is a variable name str is a type of variable and \"Hello world im learning python\" is a value of variable in str \n",
    "message_01 : str = \"Hello world im learning python\"\n",
    "# variable name can be text, number, underscore or combination of 03.\n",
    "_message : str = \"Hello world im learning python underscore\"\n",
    "print(_message)\n",
    "# variable name can be strate by text or underscore but never start with number \n",
    "01_message : str = \"variable name never be started with number\"\n",
    "Python : str = \"avoid to start variable by name Python \"\n",
    "# spaces are allowed in variable name "
   ]
  },
  {
   "cell_type": "markdown",
   "metadata": {},
   "source": [
    "# strings"
   ]
  },
  {
   "cell_type": "code",
   "execution_count": 4,
   "metadata": {},
   "outputs": [
    {
     "name": "stdout",
     "output_type": "stream",
     "text": [
      "This is a single quotation string\n",
      "This is a double quotation string\n",
      "This is a triple quotation string\n"
     ]
    }
   ],
   "source": [
    "string01 : str = 'This is a single quotation string'\n",
    "string02 : str = \"This is a double quotation string\"\n",
    "string03 : str = \"\"\"This is a triple quotation string\"\"\"\n",
    "print(string01)\n",
    "print(string02)\n",
    "print(string03)\n",
    "# you can use string in string \n",
    "nestedString : str = 'This is a \"single\" quotation string'\n",
    "nestedString : str = 'This is a 'single' quotation string' # In singe quotes sting nested single quotes are tno allowed\n",
    "nestedString : str = \"This is a \"single\" quotation string\" # In double quotes sting nested double quotes are tno allowed\n",
    "nestedString : str = 'This is a \"single\" quotation string'\n",
    "nestedString : str = \"\"\"This is a \"single\" quotation's string\"\"\""
   ]
  },
  {
   "cell_type": "markdown",
   "metadata": {},
   "source": [
    "# changing case in a string with method \n"
   ]
  },
  {
   "cell_type": "code",
   "execution_count": 4,
   "metadata": {},
   "outputs": [
    {
     "name": "stdout",
     "output_type": "stream",
     "text": [
      "This Is A Title Method Of String\n",
      "THIS IS A UPPER METHOD OF STRING\n",
      "this is a lower method of string\n"
     ]
    }
   ],
   "source": [
    "titleString : str = 'This is a title method of string'\n",
    "print(titleString.title())\n",
    "upperString : str = 'This is a upper method of string'\n",
    "print(upperString.upper())\n",
    "lowerString : str = 'This is a lower method of string'\n",
    "print(lowerString.lower())"
   ]
  },
  {
   "cell_type": "markdown",
   "metadata": {},
   "source": [
    "# using f string function add variable in a string. "
   ]
  },
  {
   "cell_type": "code",
   "execution_count": 2,
   "metadata": {},
   "outputs": [
    {
     "name": "stdout",
     "output_type": "stream",
     "text": [
      "Hello! Khalid nawaz ch welcome to\n",
      "Hello! Khalid Nawaz Ch Welcome To PIAIC\n"
     ]
    }
   ],
   "source": [
    "# using f string function \n",
    "firstName : str = \"Khalid\"\n",
    "secondName : str = \"nawaz\"\n",
    "lastName : str = \"ch\"\n",
    "Piaic : str = \"PIAIC\"\n",
    "fullname : str = f'Hello! {firstName} {secondName} {lastName} welcome to'\n",
    "print(fullname)\n",
    "print(f'{fullname.title()} PIAIC')"
   ]
  },
  {
   "cell_type": "markdown",
   "metadata": {},
   "source": [
    "# Adding whitespace to sting with tabs and newlines   "
   ]
  },
  {
   "cell_type": "code",
   "execution_count": 5,
   "metadata": {},
   "outputs": [
    {
     "name": "stdout",
     "output_type": "stream",
     "text": [
      "This is a adding whitespace method using Tabs\t and \n",
      " Newline in string\n"
     ]
    }
   ],
   "source": [
    "whitespacesString : str = 'This is a adding whitespace method using Tabs\\t and \\n Newline in string'\n",
    "print(whitespacesString)"
   ]
  },
  {
   "cell_type": "markdown",
   "metadata": {},
   "source": [
    "# stripping whitespace \n",
    "delete extra spaces "
   ]
  },
  {
   "cell_type": "code",
   "execution_count": 16,
   "metadata": {},
   "outputs": [
    {
     "name": "stdout",
     "output_type": "stream",
     "text": [
      "      This is a stripping         whitespace method in string.\n",
      "This is a stripping         whitespace method in string.\n",
      "This is a stripping         whitespace method in string.\n",
      "['This', 'is', 'a', 'stripping', 'whitespace', 'method', 'in', 'string.']\n"
     ]
    }
   ],
   "source": [
    "strippingWhitespacesString : str = '      This is a stripping         whitespace method in string.'\n",
    "rStrippingWhitespacesString: str = strippingWhitespacesString.rstrip()\n",
    "lStrippingWhitespacesString: str = strippingWhitespacesString.lstrip()\n",
    "sStrippingWhitespacesString: str = strippingWhitespacesString.strip()\n",
    "splitStrippingWhitespacesString: str = strippingWhitespacesString.split()\n",
    "print(rStrippingWhitespacesString)\n",
    "print(lStrippingWhitespacesString)\n",
    "print(sStrippingWhitespacesString)\n",
    "print(splitStrippingWhitespacesString)\n",
    "\n",
    "\n"
   ]
  },
  {
   "cell_type": "markdown",
   "metadata": {},
   "source": [
    " # Removing prefixes \n"
   ]
  },
  {
   "cell_type": "code",
   "execution_count": 22,
   "metadata": {},
   "outputs": [
    {
     "name": "stdout",
     "output_type": "stream",
     "text": [
      "ithub.com/panaverse/learng-modern-python/blob/main/02_class(string_fstring)/class2.ipynb https://github.com/khalidch73/LearnPython/settings\n"
     ]
    }
   ],
   "source": [
    "url : str = \"https://ithub.com/panaverse/learng-modern-python/blob/main/02_class(string_fstring)/class2.ipynb https://github.com/khalidch73/LearnPython/settings\"\n",
    "print(url.removeprefix('https://'))"
   ]
  }
 ],
 "metadata": {
  "kernelspec": {
   "display_name": "Python 3",
   "language": "python",
   "name": "python3"
  },
  "language_info": {
   "codemirror_mode": {
    "name": "ipython",
    "version": 3
   },
   "file_extension": ".py",
   "mimetype": "text/x-python",
   "name": "python",
   "nbconvert_exporter": "python",
   "pygments_lexer": "ipython3",
   "version": "3.12.0"
  }
 },
 "nbformat": 4,
 "nbformat_minor": 2
}
